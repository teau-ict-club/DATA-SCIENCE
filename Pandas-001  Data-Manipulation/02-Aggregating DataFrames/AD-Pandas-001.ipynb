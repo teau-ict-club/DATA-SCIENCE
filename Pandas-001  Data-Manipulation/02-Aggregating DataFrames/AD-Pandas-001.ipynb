{
 "cells": [
  {
   "cell_type": "markdown",
   "id": "b5583c05-1802-41e5-b0df-bf9f8ca2365c",
   "metadata": {},
   "source": [
    "# AGGREGATING DATAFRAMES"
   ]
  },
  {
   "cell_type": "markdown",
   "id": "49c8d394-7374-401b-a358-66bc273aa491",
   "metadata": {},
   "source": [
    "**Mean and median**<br>\n",
    "Summary statistics are exactly what they sound like - they summarize many numbers in one statistic.<br>\n",
    "For example, mean, median, minimum, maximum, and standard deviation are summary statistics.<br>\n",
    "Calculating summary statistics allows you to get a better sense of your data, even if there's a lot of it.<br>\n"
   ]
  },
  {
   "cell_type": "markdown",
   "id": "71a41f88-10a2-4389-b414-d40cbee5bd7a",
   "metadata": {},
   "source": [
    "Load Pandas and data into workspace"
   ]
  },
  {
   "cell_type": "code",
   "execution_count": null,
   "id": "29ed2f16-f5dc-44dc-b6c0-88ddd6f6e83b",
   "metadata": {},
   "outputs": [],
   "source": [
    "#"
   ]
  },
  {
   "cell_type": "markdown",
   "id": "dcc73e2b-557e-47a0-8b64-2c81073428c3",
   "metadata": {},
   "source": [
    "Explore your new DataFrame first by printing the first few rows of the sales DataFrame.<br>\n",
    "Print information about the columns in sales.<br>\n",
    "Print the mean of the weekly_sales column.<br>\n",
    "Print the median of the weekly_sales column<br>"
   ]
  },
  {
   "cell_type": "code",
   "execution_count": null,
   "id": "4277ff9b-dfab-4d08-ab98-98c4ea5ce5c1",
   "metadata": {},
   "outputs": [],
   "source": [
    "# Print the head of the sales DataFrame\n",
    "print(sales.head())\n",
    "\n",
    "# Print the info about the sales DataFrame\n",
    "print(sales.info())\n",
    "\n",
    "# Print the mean of weekly_sales\n",
    "print(sales['weekly_sales'].mean())\n",
    "\n",
    "# Print the median of weekly_sales\n",
    "print(sales['weekly_sales'].median())"
   ]
  },
  {
   "cell_type": "markdown",
   "id": "840aa38f-88df-4eec-bbd4-899bf39f41e8",
   "metadata": {},
   "source": [
    "# Summarizing dates\n",
    "Summary statistics can also be calculated on date columns that have values with the data type datetime64.<br>\n",
    "Some summary statistics — like mean — don't make a ton of sense on dates, but others are super helpful, for example, minimum and maximum, which allow you to see what time range your data covers.<br>\n",
    "\n",
    "\n",
    "Print the maximum of the date column.<br>\n",
    "Print the minimum of the date column.<br>"
   ]
  },
  {
   "cell_type": "code",
   "execution_count": null,
   "id": "abb36b17-2ff6-443d-88bd-1c0376cbec45",
   "metadata": {},
   "outputs": [],
   "source": [
    "# Print the maximum of the date column\n",
    "print(sales['date'].max())\n",
    "\n",
    "# Print the minimum of the date column\n",
    "print(sales['date'].min())"
   ]
  },
  {
   "cell_type": "markdown",
   "id": "1eaa33ab-22d0-4d08-bbda-09af7e2ee106",
   "metadata": {},
   "source": [
    "# Efficient summaries\n",
    "\n",
    "While pandas and NumPy have tons of functions, sometimes, you may need a different function to summarize your data.<br>\n",
    "\n",
    "The .agg() method allows you to apply your own custom functions to a DataFrame, as well as apply functions to more than one column of a DataFrame at once, making your aggregations super-efficient. For example,<br>\n",
    "\n",
    "df['column'].agg(function)<br>\n",
    "\n",
    "In the custom function for this exercise, \"IQR\" is short for inter-quartile range, which is the 75th percentile minus the 25th percentile. It's an alternative to standard deviation that is helpful if your data contains outliers.<br>"
   ]
  },
  {
   "cell_type": "markdown",
   "id": "b497b7a6-1dc5-4fc4-8b6c-2848b7774772",
   "metadata": {},
   "source": [
    "Use the custom iqr function defined for you along with .agg() to print the IQR of the temperature_c column of sales"
   ]
  },
  {
   "cell_type": "code",
   "execution_count": null,
   "id": "cee00240-6d00-4181-9a24-d7afc8ebde55",
   "metadata": {},
   "outputs": [],
   "source": [
    "# A custom IQR function\n",
    "def iqr(column):\n",
    "    return column.quantile(0.75) - column.quantile(0.25)\n",
    "    \n",
    "# Print IQR of the temperature_c column\n",
    "print(sales['temperature_c'].agg(iqr))"
   ]
  },
  {
   "cell_type": "markdown",
   "id": "33292d00-220e-4497-8829-6073bf08fd9f",
   "metadata": {},
   "source": [
    "Update the column selection to use the custom iqr function with .agg() to print the IQR of temperature_c, fuel_price_usd_per_l, and unemployment, in that order."
   ]
  },
  {
   "cell_type": "code",
   "execution_count": null,
   "id": "8efa1d1c-b8da-4d68-ace6-092950e86bae",
   "metadata": {},
   "outputs": [],
   "source": [
    "# A custom IQR function\n",
    "def iqr(column):\n",
    "    return column.quantile(0.75) - column.quantile(0.25)\n",
    "\n",
    "# Update to print IQR of temperature_c, fuel_price_usd_per_l, & unemployment\n",
    "print(sales[[\"temperature_c\", 'fuel_price_usd_per_l','unemployment' ]].agg(iqr))"
   ]
  },
  {
   "cell_type": "markdown",
   "id": "8b902b93-213c-4dc2-87d3-9025407c32aa",
   "metadata": {},
   "source": [
    "Update the aggregation functions called by .agg(): include iqr and np.median in that order"
   ]
  },
  {
   "cell_type": "code",
   "execution_count": null,
   "id": "1d899eb8-8c82-4c77-a9b9-654d1da0bcdd",
   "metadata": {},
   "outputs": [],
   "source": [
    "# Import NumPy and create custom IQR function\n",
    "import numpy as np\n",
    "def iqr(column):\n",
    "    return column.quantile(0.75) - column.quantile(0.25)\n",
    "\n",
    "# Update to print IQR and median of temperature_c, fuel_price_usd_per_l, & unemployment\n",
    "print(sales[[\"temperature_c\", \"fuel_price_usd_per_l\", \"unemployment\"]].agg([iqr, np.median]))"
   ]
  },
  {
   "cell_type": "markdown",
   "id": "b35338b0-9922-4eff-94ea-16983f65454f",
   "metadata": {},
   "source": [
    "# Cumulative statistics\n",
    "Cumulative statistics can also be helpful in tracking summary statistics over time.<br>\n",
    "In this exercise, you'll calculate the cumulative sum and cumulative max of a department's weekly sales, which will allow you to identify what the total sales were so far as well as what the highest weekly sales were so far.<br>\n",
    "\n",
    "A DataFrame called sales_1_1 has been created for you, which contains the sales data for department 1 of store 1. pandas is loaded as pd.<br>"
   ]
  },
  {
   "cell_type": "code",
   "execution_count": null,
   "id": "78c51a19-86b8-4bd4-9d5e-f9c059b3c50a",
   "metadata": {},
   "outputs": [],
   "source": [
    "#Load DataFrame\n",
    "sales_1_1 = pd.read_csv('')\n",
    "#Print first five elements\n",
    "print(sales_1_1.head(5))"
   ]
  },
  {
   "cell_type": "markdown",
   "id": "18b9f77b-4c09-4936-933c-91b047e3bb3e",
   "metadata": {},
   "source": [
    "Sort the rows of sales_1_1 by the date column in ascending order.<br>\n",
    "Get the cumulative sum of weekly_sales and add it as a new column of sales_1_1 called cum_weekly_sales.<br>\n",
    "Get the cumulative maximum of weekly_sales, and add it as a column called cum_max_sales.<br>\n",
    "Print the date, weekly_sales, cum_weekly_sales, and cum_max_sales columns.<br>"
   ]
  },
  {
   "cell_type": "code",
   "execution_count": null,
   "id": "92bb2274-bfd5-43d9-be96-45dc54c3db12",
   "metadata": {},
   "outputs": [],
   "source": [
    "# Sort sales_1_1 by date\n",
    "sales_1_1 = sales_1_1.sort_values('date')\n",
    "\n",
    "# Get the cumulative sum of weekly_sales, add as cum_weekly_sales col\n",
    "sales_1_1['cum_weekly_sales'] = sales_1_1['weekly_sales'].cumsum()\n",
    "\n",
    "# Get the cumulative max of weekly_sales, add as cum_max_sales col\n",
    "sales_1_1['cum_max_sales'] = sales_1_1['weekly_sales'].cummax()\n",
    "\n",
    "# See the columns you calculated\n",
    "print(sales_1_1[[\"date\", \"weekly_sales\", \"cum_weekly_sales\", \"cum_max_sales\"]])"
   ]
  },
  {
   "cell_type": "markdown",
   "id": "09efc327-9cc7-44b2-8fd0-a556db680d18",
   "metadata": {},
   "source": [
    "# Dropping duplicates\n",
    "Removing duplicates is an essential skill to get accurate counts because often, you don't want to count the same thing multiple times.<br>\n",
    "In this exercise, you'll create some new DataFrames using unique values from sales.<br>\n",
    "\n",
    "sales is available and pandas is imported as pd.<br>"
   ]
  },
  {
   "cell_type": "markdown",
   "id": "061297d0-4e50-4ccd-8711-2a2f445085ed",
   "metadata": {},
   "source": [
    "Remove rows of sales with duplicate pairs of store and type and save as store_types and print the head.<br>\n",
    "Remove rows of sales with duplicate pairs of store and department and save as store_depts and print the head.<br>\n",
    "Subset the rows that are holiday weeks using the is_holiday column, and drop the duplicate dates, saving as holiday_dates.<br>\n",
    "Select the date column of holiday_dates, and print.<br>"
   ]
  },
  {
   "cell_type": "code",
   "execution_count": null,
   "id": "bba43092-90cf-4599-b02b-67896d418192",
   "metadata": {},
   "outputs": [],
   "source": [
    "# Drop duplicate store/type combinations\n",
    "store_types = sales.drop_duplicates(subset=['store','type'])\n",
    "print(store_types.head())\n",
    "\n",
    "# Drop duplicate store/department combinations\n",
    "store_depts = sales.drop_duplicates(subset=['store','department'])\n",
    "print(store_depts.head())\n",
    "\n",
    "# Subset the rows where is_holiday is True and drop duplicate dates\n",
    "holiday_dates = sales[sales['is_holiday'] == True].drop_duplicates(subset='date')\n",
    "\n",
    "# Print date col of holiday_dates\n",
    "print(holiday_dates)"
   ]
  },
  {
   "cell_type": "markdown",
   "id": "ac5715a8-a31b-4b92-91f0-9a9b6f5a505f",
   "metadata": {},
   "source": [
    "# Counting categorical variables\n",
    "\n",
    "Counting is a great way to get an overview of your data and to spot curiosities that you might not notice otherwise.<br> \n",
    "In this exercise, you'll count the number of each type of store and the number of each department number using the DataFrames you created in the previous exercise:<br>\n",
    "\n",
    "**Drop duplicate store/type combinations**<br>\n",
    "store_types = sales.drop_duplicates(subset=[\"store\", \"type\"])<br>\n",
    "\n",
    "**Drop duplicate store/department combinations**<br>\n",
    "store_depts = sales.drop_duplicates(subset=[\"store\", \"department\"])<br>\n",
    "\n",
    "The store_types and store_depts DataFrames you created in the last exercise are available, and pandas is imported as pd."
   ]
  },
  {
   "cell_type": "markdown",
   "id": "7c811464-f859-4eea-a230-42d11119e18a",
   "metadata": {},
   "source": [
    "Count the number of stores of each store type in store_types.<br>\n",
    "Count the proportion of stores of each store type in store_types.<br>\n",
    "Count the number of different departments in store_depts, sorting the counts in descending order.<br>\n",
    "Count the proportion of different departments in store_depts, sorting the proportions in descending order<br>"
   ]
  },
  {
   "cell_type": "code",
   "execution_count": null,
   "id": "3f8d4735-922e-4b99-8b87-94a8e0bc7152",
   "metadata": {},
   "outputs": [],
   "source": [
    "# Count the number of stores of each type\n",
    "store_counts = store_types[\"type\"].value_counts()\n",
    "print(store_counts)\n",
    "\n",
    "# Get the proportion of stores of each type\n",
    "store_props = store_types[\"type\"].value_counts(normalize=True)\n",
    "print(store_props)\n",
    "\n",
    "# Count the number of each department number and sort\n",
    "dept_counts_sorted = store_depts[\"department\"].value_counts(sort=True)\n",
    "print(dept_counts_sorted)\n",
    "\n",
    "# Get the proportion of departments of each number and sort\n",
    "dept_props_sorted = store_depts[\"department\"].value_counts(sort=True, normalize=True)\n",
    "print(dept_props_sorted)"
   ]
  },
  {
   "cell_type": "markdown",
   "id": "334ea8bc-1166-4338-af7b-c63b7f34ce4f",
   "metadata": {},
   "source": [
    "# What percent of sales occurred at each store type?\n",
    "While .groupby() is useful, you can calculate grouped summary statistics without it.<br>\n",
    "\n",
    "Walmart distinguishes three types of stores: \"supercenters,\" \"discount stores,\" and \"neighborhood markets,\" encoded in this dataset as type \"A,\" \"B,\" and \"C.\" In this exercise, you'll calculate the total sales made at each store type, without using .groupby().<br> \n",
    "You can then use these numbers to see what proportion of Walmart's total sales were made at each type.<br>\n",
    "\n",
    "sales is available and pandas is imported as pd."
   ]
  },
  {
   "cell_type": "markdown",
   "id": "cdeda4cc-d4b4-413f-ad9c-671a014cd820",
   "metadata": {},
   "source": [
    "Calculate the total weekly_sales over the whole dataset.<br>\n",
    "Subset for type \"A\" stores, and calculate their total weekly sales.<br>\n",
    "Do the same for type \"B\" and type \"C\" stores.<br>\n",
    "Combine the A/B/C results into a list, and divide by sales_all to get the proportion of sales by type.<br>"
   ]
  },
  {
   "cell_type": "code",
   "execution_count": null,
   "id": "e6d808f6-46fe-473a-ad74-046f09f3eadb",
   "metadata": {},
   "outputs": [],
   "source": [
    "# Calc total weekly sales\n",
    "sales_all = sales[\"weekly_sales\"].sum()\n",
    "\n",
    "# Subset for type A stores, calc total weekly sales\n",
    "sales_A = sales[sales[\"type\"] == \"A\"][\"weekly_sales\"].sum()\n",
    "\n",
    "# Subset for type B stores, calc total weekly sales\n",
    "sales_B = sales[sales[\"type\"] == \"B\"][\"weekly_sales\"].sum()\n",
    "\n",
    "# Subset for type C stores, calc total weekly sales\n",
    "sales_C = sales[sales[\"type\"] == \"C\"][\"weekly_sales\"].sum()\n",
    "\n",
    "# Get proportion for each type\n",
    "sales_propn_by_type = [sales_A,sales_B, sales_C] / sales_all\n",
    "print(sales_propn_by_type)"
   ]
  },
  {
   "cell_type": "markdown",
   "id": "b85380a4-cd1d-41b7-9a09-9906cab2f10b",
   "metadata": {
    "tags": []
   },
   "source": [
    "# Calculations with .groupby()\n",
    "The .groupby() method makes life much easier. <br>\n",
    "In this exercise, you'll perform the same calculations as last time, except you'll use the .groupby() method. <br>\n",
    "You'll also perform calculations on data grouped by two variables to see if sales differ by store type depending on if it's a holiday week or not.<br>\n",
    "\n",
    "sales is available and pandas is loaded as pd"
   ]
  },
  {
   "cell_type": "markdown",
   "id": "a09ce4ff-9a3d-4210-b1b6-6deb47f4477f",
   "metadata": {},
   "source": [
    "Group sales by \"type\", take the sum of \"weekly_sales\", and store as sales_by_type.<br>\n",
    "Calculate the proportion of sales at each store type by dividing by the sum of sales_by_type. Assign to sales_propn_by_type.<br>"
   ]
  },
  {
   "cell_type": "code",
   "execution_count": null,
   "id": "dd2d9eb0-2e27-4ec3-8a27-68535dc43436",
   "metadata": {},
   "outputs": [],
   "source": [
    "# Group by type; calc total weekly sales\n",
    "sales_by_type = sales.groupby(\"type\")[\"weekly_sales\"].sum()\n",
    "\n",
    "# Get proportion for each type\n",
    "sales_propn_by_type = sales_by_type / sum(sales_by_type)\n",
    "print(sales_propn_by_type)"
   ]
  },
  {
   "cell_type": "markdown",
   "id": "8ac22142-03b5-4435-aac3-07e74c14e559",
   "metadata": {},
   "source": [
    "# Calculations with .groupby()\n",
    "The .groupby() method makes life much easier. <br>\n",
    "In this exercise, you'll perform the same calculations as last time, except you'll use the .groupby() method.<br>\n",
    "You'll also perform calculations on data grouped by two variables to see if sales differ by store type depending on if it's a holiday week or not.<br>\n",
    "\n",
    "sales is available and pandas is loaded as pd"
   ]
  },
  {
   "cell_type": "markdown",
   "id": "28e406e2-6999-46c1-8e76-7ce2338b8a23",
   "metadata": {},
   "source": [
    "Group sales by \"type\" and \"is_holiday\", take the sum of weekly_sales, and store as sales_by_type_is_holiday"
   ]
  },
  {
   "cell_type": "code",
   "execution_count": null,
   "id": "1e61fbbf-a60d-4f0c-9640-10429189e3b4",
   "metadata": {},
   "outputs": [],
   "source": [
    "# From previous step\n",
    "sales_by_type = sales.groupby(\"type\")[\"weekly_sales\"].sum()\n",
    "\n",
    "# Group by type and is_holiday; calc total weekly sales\n",
    "sales_by_type_is_holiday = sales.groupby([\"type\",\"is_holiday\"])[\"weekly_sales\"].sum()\n",
    "print(sales_by_type_is_holiday)"
   ]
  },
  {
   "cell_type": "markdown",
   "id": "4ff7fbd9-1d6c-4c35-af97-503edb8c0092",
   "metadata": {},
   "source": [
    "# Multiple grouped summaries\n",
    "Earlier in this chapter, you saw that the .agg() method is useful to compute multiple statistics on multiple variables.<br>\n",
    "It also works with grouped data.<br>\n",
    "NumPy, which is imported as np, has many different summary statistics functions, including: np.min, np.max, np.mean, and np.median.<br>\n",
    "\n",
    "sales is available and pandas is imported as pd"
   ]
  },
  {
   "cell_type": "markdown",
   "id": "38d78e93-70f7-42f8-9728-71328091cd93",
   "metadata": {},
   "source": [
    "Import numpy with the alias np.<br>\n",
    "Get the min, max, mean, and median of weekly_sales for each store type using .groupby() and .agg(). Store this as sales_stats.<br>\n",
    "Make sure to use numpy functions!<br>\n",
    "Get the min, max, mean, and median of unemployment and fuel_price_usd_per_l for each store type.<br> \n",
    "Store this as unemp_fuel_stats."
   ]
  },
  {
   "cell_type": "code",
   "execution_count": null,
   "id": "3f4bd537-3814-4175-9f8b-3122e5e8207f",
   "metadata": {},
   "outputs": [],
   "source": [
    "# Import numpy with the alias np\n",
    "import numpy as np\n",
    "\n",
    "# For each store type, aggregate weekly_sales: get min, max, mean, and median\n",
    "sales_stats = sales.groupby(\"type\")[\"weekly_sales\"].agg([np.min, np.max, np.mean, np.median])\n",
    "\n",
    "# Print sales_stats\n",
    "print(sales_stats)\n",
    "\n",
    "# For each store type, aggregate unemployment and fuel_price_usd_per_l: get min, max, mean, and median\n",
    "unemp_fuel_stats = sales.groupby(\"type\")[[\"unemployment\", \"fuel_price_usd_per_l\"]].agg([np.min, np.max, np.mean, np.median])\n",
    "\n",
    "# Print unemp_fuel_stats\n",
    "print(unemp_fuel_stats)"
   ]
  },
  {
   "cell_type": "markdown",
   "id": "33b9c9c5-9e51-40e6-a71e-8a96070ec2db",
   "metadata": {},
   "source": [
    "# Pivoting on one variable\n",
    "Pivot tables are the standard way of aggregating data in spreadsheets. In pandas, pivot tables are essentially just another way of performing grouped calculations. <br>\n",
    "That is, the .pivot_table() method is just an alternative to .groupby().<br>\n",
    "\n",
    "In this exercise, you'll perform calculations using .pivot_table() to replicate the calculations you performed in the last lesson using .groupby().<br>\n",
    "\n",
    "sales is available and pandas is imported as pd"
   ]
  },
  {
   "cell_type": "markdown",
   "id": "cc030f74-8825-4aac-b125-044c27b30f7b",
   "metadata": {},
   "source": [
    "Get the mean weekly_sales by type using .pivot_table() and store as mean_sales_by_type"
   ]
  },
  {
   "cell_type": "code",
   "execution_count": null,
   "id": "878a8d02-6131-4ccc-abb3-ecf65f5c19cf",
   "metadata": {},
   "outputs": [],
   "source": [
    "# Pivot for mean weekly_sales for each store type\n",
    "mean_sales_by_type = sales.pivot_table(values=\"weekly_sales\",index=\"type\")\n",
    "\n",
    "# Print mean_sales_by_type\n",
    "print(mean_sales_by_type)"
   ]
  },
  {
   "cell_type": "markdown",
   "id": "81064534-e26b-48c3-ba37-b17344405e60",
   "metadata": {},
   "source": [
    "Get the mean and median (using NumPy functions) of weekly_sales by type using .pivot_table() and store as mean_med_sales_by_type."
   ]
  },
  {
   "cell_type": "code",
   "execution_count": null,
   "id": "3d1a08c7-a413-4a30-bc29-8f0188b9c508",
   "metadata": {},
   "outputs": [],
   "source": [
    "# Import NumPy as np\n",
    "import numpy as np\n",
    "\n",
    "# Pivot for mean and median weekly_sales for each store type\n",
    "mean_med_sales_by_type = sales.pivot_table(values=\"weekly_sales\",index=\"type\",aggfunc=[np.mean,np.median])\n",
    "# Print mean_med_sales_by_type\n",
    "print(mean_med_sales_by_type)"
   ]
  },
  {
   "cell_type": "markdown",
   "id": "8de83a59-1b4e-4407-9a3a-a0fd5ee13051",
   "metadata": {},
   "source": [
    "Get the mean of weekly_sales by type and is_holiday using .pivot_table() and store as mean_sales_by_type_holiday."
   ]
  },
  {
   "cell_type": "code",
   "execution_count": null,
   "id": "8f3b13ff-ed96-4aee-808f-58e44be589cf",
   "metadata": {},
   "outputs": [],
   "source": [
    "# Pivot for mean weekly_sales by store type and holiday \n",
    "mean_sales_by_type_holiday = sales.pivot_table(values=\"weekly_sales\",index=\"type\",columns=\"is_holiday\")\n",
    "\n",
    "# Print mean_sales_by_type_holiday\n",
    "print(mean_sales_by_type_holiday)"
   ]
  },
  {
   "cell_type": "markdown",
   "id": "108d9b89-7077-4679-ae44-8ec9e9a43550",
   "metadata": {},
   "source": [
    "# Fill in missing values and sum values with pivot tables\n",
    "The .pivot_table() method has several useful arguments, including fill_value and margins.<br>\n",
    "\n",
    "fill_value replaces missing values with a real value (known as imputation).<br>\n",
    "What to replace missing values with is a topic big enough to have its own course (Dealing with Missing Data in Python), but the simplest thing to do is to substitute a dummy value.<br>\n",
    "margins is a shortcut for when you pivoted by two variables, but also wanted to pivot by each of those variables separately:<br> \n",
    "it gives the row and column totals of the pivot table contents.<br>\n",
    "In this exercise, you'll practice using these arguments to up your pivot table skills, which will help you crunch numbers more efficiently!<br>\n",
    "\n",
    "sales is available and pandas is imported as pd"
   ]
  },
  {
   "cell_type": "markdown",
   "id": "2290e382-a0e2-4d29-888a-e1d975e077ba",
   "metadata": {},
   "source": [
    "Print the mean weekly_sales by department and type, filling in any missing values with 0"
   ]
  },
  {
   "cell_type": "code",
   "execution_count": null,
   "id": "35d96173-66b4-4896-830f-682805d7fc4d",
   "metadata": {},
   "outputs": [],
   "source": [
    "# Print mean weekly_sales by department and type; fill missing values with 0\n",
    "print(sales.pivot_table(values=\"weekly_sales\",index='department',columns='type',fill_value=0))"
   ]
  },
  {
   "cell_type": "markdown",
   "id": "7dc53b0a-72f6-47a7-9577-1de9505d2383",
   "metadata": {},
   "source": [
    "Print the mean weekly_sales by department and type, filling in any missing values with 0 and summing all rows and columns."
   ]
  },
  {
   "cell_type": "code",
   "execution_count": null,
   "id": "a2ef617a-2c93-4055-b67a-05381ef0af1c",
   "metadata": {},
   "outputs": [],
   "source": [
    "# Print the mean weekly_sales by department and type; fill missing values with 0s; sum all rows and cols\n",
    "print(sales.pivot_table(values=\"weekly_sales\", index=\"department\", columns=\"type\", fill_value=0,margins=True))"
   ]
  },
  {
   "cell_type": "code",
   "execution_count": null,
   "id": "1a472a65-77b4-41ae-a8fb-3ff7ef705ed9",
   "metadata": {},
   "outputs": [],
   "source": []
  }
 ],
 "metadata": {
  "kernelspec": {
   "display_name": "Python 3 (ipykernel)",
   "language": "python",
   "name": "python3"
  },
  "language_info": {
   "codemirror_mode": {
    "name": "ipython",
    "version": 3
   },
   "file_extension": ".py",
   "mimetype": "text/x-python",
   "name": "python",
   "nbconvert_exporter": "python",
   "pygments_lexer": "ipython3",
   "version": "3.9.6"
  }
 },
 "nbformat": 4,
 "nbformat_minor": 5
}
